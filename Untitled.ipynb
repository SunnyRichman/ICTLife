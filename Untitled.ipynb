{
 "cells": [
  {
   "cell_type": "code",
   "execution_count": null,
   "id": "b8763e85-dfc3-47cf-ba65-cddb1620ffba",
   "metadata": {},
   "outputs": [],
   "source": [
    "try:\n",
    "    import pyaudio as pa\n",
    "    import sounddevice as sd\n",
    "except ImportError:\n",
    "    pip install pyaudio\n",
    "    pip install sounddevice"
   ]
  },
  {
   "cell_type": "code",
   "execution_count": null,
   "id": "2d39756c-30d9-4b48-80a3-8b419cdcf42f",
   "metadata": {},
   "outputs": [],
   "source": [
    "def register()"
   ]
  }
 ],
 "metadata": {
  "kernelspec": {
   "display_name": "Python 3 (ipykernel)",
   "language": "python",
   "name": "python3"
  },
  "language_info": {
   "codemirror_mode": {
    "name": "ipython",
    "version": 3
   },
   "file_extension": ".py",
   "mimetype": "text/x-python",
   "name": "python",
   "nbconvert_exporter": "python",
   "pygments_lexer": "ipython3",
   "version": "3.11.8"
  }
 },
 "nbformat": 4,
 "nbformat_minor": 5
}
